{
  "nbformat": 4,
  "nbformat_minor": 0,
  "metadata": {
    "colab": {
      "provenance": []
    },
    "kernelspec": {
      "name": "python3",
      "display_name": "Python 3"
    },
    "language_info": {
      "name": "python"
    }
  },
  "cells": [
    {
      "cell_type": "markdown",
      "source": [
        "# IMPORTING LIBRARIES\n"
      ],
      "metadata": {
        "id": "rQpyil_epLNF"
      }
    },
    {
      "cell_type": "code",
      "execution_count": null,
      "metadata": {
        "id": "2JGaIDLOKfhn"
      },
      "outputs": [],
      "source": [
        "import numpy as np\n",
        "import pandas as pd\n",
        "import matplotlib.pyplot as plt\n",
        "import seaborn as sns"
      ]
    },
    {
      "cell_type": "markdown",
      "source": [
        "# IMPORTING DATASET"
      ],
      "metadata": {
        "id": "mg136lmapRhj"
      }
    },
    {
      "cell_type": "code",
      "source": [
        "dataset=pd.read_csv(\"/content/HousePrices.csv\")"
      ],
      "metadata": {
        "id": "26lkl6TYKgg2"
      },
      "execution_count": null,
      "outputs": []
    },
    {
      "cell_type": "code",
      "source": [
        "print(dataset.head())"
      ],
      "metadata": {
        "colab": {
          "base_uri": "https://localhost:8080/"
        },
        "id": "ECxzbsQ3Kij_",
        "outputId": "c26fe932-5105-4e86-ae03-9791063184fc"
      },
      "execution_count": null,
      "outputs": [
        {
          "output_type": "stream",
          "name": "stdout",
          "text": [
            "   Id  Dwell_Type Zone_Class  LotFrontage  LotArea Road_Type Alley  \\\n",
            "0   1          60         RL         65.0     8450      Pave   NaN   \n",
            "1   2          20         RL         80.0     9600      Pave   NaN   \n",
            "2   3          60         RL         68.0    11250      Pave   NaN   \n",
            "3   4          70         RL         60.0     9550      Pave   NaN   \n",
            "4   5          60         RL         84.0    14260      Pave   NaN   \n",
            "\n",
            "  Property_Shape LandContour Utilities  ... PoolArea PoolQC Fence MiscFeature  \\\n",
            "0            Reg         Lvl    AllPub  ...        0    NaN   NaN         NaN   \n",
            "1            Reg         Lvl    AllPub  ...        0    NaN   NaN         NaN   \n",
            "2            IR1         Lvl    AllPub  ...        0    NaN   NaN         NaN   \n",
            "3            IR1         Lvl    AllPub  ...        0    NaN   NaN         NaN   \n",
            "4            IR1         Lvl    AllPub  ...        0    NaN   NaN         NaN   \n",
            "\n",
            "  MiscVal MoSold YrSold  SaleType  SaleCondition  Property_Sale_Price  \n",
            "0       0      2   2008        WD         Normal               208500  \n",
            "1       0      5   2007        WD         Normal               181500  \n",
            "2       0      9   2008        WD         Normal               223500  \n",
            "3       0      2   2006        WD        Abnorml               140000  \n",
            "4       0     12   2008        WD         Normal               250000  \n",
            "\n",
            "[5 rows x 81 columns]\n"
          ]
        }
      ]
    },
    {
      "cell_type": "code",
      "source": [
        "dataset.info()"
      ],
      "metadata": {
        "colab": {
          "base_uri": "https://localhost:8080/"
        },
        "id": "6GeV2VciKkAe",
        "outputId": "fc00966c-f707-4e4c-e959-135fa5dd8311"
      },
      "execution_count": null,
      "outputs": [
        {
          "output_type": "stream",
          "name": "stdout",
          "text": [
            "<class 'pandas.core.frame.DataFrame'>\n",
            "RangeIndex: 2073 entries, 0 to 2072\n",
            "Data columns (total 81 columns):\n",
            " #   Column               Non-Null Count  Dtype  \n",
            "---  ------               --------------  -----  \n",
            " 0   Id                   2073 non-null   int64  \n",
            " 1   Dwell_Type           2073 non-null   int64  \n",
            " 2   Zone_Class           2073 non-null   object \n",
            " 3   LotFrontage          1753 non-null   float64\n",
            " 4   LotArea              2073 non-null   int64  \n",
            " 5   Road_Type            2073 non-null   object \n",
            " 6   Alley                129 non-null    object \n",
            " 7   Property_Shape       2073 non-null   object \n",
            " 8   LandContour          2073 non-null   object \n",
            " 9   Utilities            2073 non-null   object \n",
            " 10  LotConfig            2073 non-null   object \n",
            " 11  LandSlope            2073 non-null   object \n",
            " 12  Neighborhood         2073 non-null   object \n",
            " 13  Condition1           2073 non-null   object \n",
            " 14  Condition2           2073 non-null   object \n",
            " 15  Dwelling_Type        2073 non-null   object \n",
            " 16  HouseStyle           2073 non-null   object \n",
            " 17  OverallQual          2073 non-null   int64  \n",
            " 18  OverallCond          2073 non-null   int64  \n",
            " 19  YearBuilt            2073 non-null   int64  \n",
            " 20  YearRemodAdd         2073 non-null   int64  \n",
            " 21  RoofStyle            2073 non-null   object \n",
            " 22  RoofMatl             2073 non-null   object \n",
            " 23  Exterior1st          2073 non-null   object \n",
            " 24  Exterior2nd          2073 non-null   object \n",
            " 25  MasVnrType           2059 non-null   object \n",
            " 26  MasVnrArea           2059 non-null   float64\n",
            " 27  ExterQual            2073 non-null   object \n",
            " 28  ExterCond            2073 non-null   object \n",
            " 29  Foundation           2073 non-null   object \n",
            " 30  BsmtQual             2014 non-null   object \n",
            " 31  BsmtCond             2014 non-null   object \n",
            " 32  BsmtExposure         2012 non-null   object \n",
            " 33  BsmtFinType1         2014 non-null   object \n",
            " 34  BsmtFinSF1           2073 non-null   int64  \n",
            " 35  BsmtFinType2         2013 non-null   object \n",
            " 36  BsmtFinSF2           2073 non-null   int64  \n",
            " 37  BsmtUnfSF            2073 non-null   int64  \n",
            " 38  TotalBsmtSF          2073 non-null   int64  \n",
            " 39  Heating              2073 non-null   object \n",
            " 40  HeatingQC            2073 non-null   object \n",
            " 41  CentralAir           2073 non-null   object \n",
            " 42  Electrical           2072 non-null   object \n",
            " 43  1stFlrSF             2073 non-null   int64  \n",
            " 44  2ndFlrSF             2073 non-null   int64  \n",
            " 45  LowQualFinSF         2073 non-null   int64  \n",
            " 46  GrLivArea            2073 non-null   int64  \n",
            " 47  BsmtFullBath         2073 non-null   int64  \n",
            " 48  BsmtHalfBath         2073 non-null   int64  \n",
            " 49  FullBath             2073 non-null   int64  \n",
            " 50  HalfBath             2073 non-null   int64  \n",
            " 51  BedroomAbvGr         2073 non-null   int64  \n",
            " 52  KitchenAbvGr         2073 non-null   int64  \n",
            " 53  KitchenQual          2073 non-null   object \n",
            " 54  TotRmsAbvGrd         2073 non-null   int64  \n",
            " 55  Functional           2073 non-null   object \n",
            " 56  Fireplaces           2073 non-null   int64  \n",
            " 57  FireplaceQu          1085 non-null   object \n",
            " 58  GarageType           1960 non-null   object \n",
            " 59  GarageYrBlt          1960 non-null   float64\n",
            " 60  GarageFinish         1960 non-null   object \n",
            " 61  GarageCars           2073 non-null   int64  \n",
            " 62  GarageArea           2073 non-null   int64  \n",
            " 63  GarageQual           1960 non-null   object \n",
            " 64  GarageCond           1960 non-null   object \n",
            " 65  PavedDrive           2073 non-null   object \n",
            " 66  WoodDeckSF           2073 non-null   int64  \n",
            " 67  OpenPorchSF          2073 non-null   int64  \n",
            " 68  EnclosedPorch        2073 non-null   int64  \n",
            " 69  3SsnPorch            2073 non-null   int64  \n",
            " 70  ScreenPorch          2073 non-null   int64  \n",
            " 71  PoolArea             2073 non-null   int64  \n",
            " 72  PoolQC               8 non-null      object \n",
            " 73  Fence                404 non-null    object \n",
            " 74  MiscFeature          80 non-null     object \n",
            " 75  MiscVal              2073 non-null   int64  \n",
            " 76  MoSold               2073 non-null   int64  \n",
            " 77  YrSold               2073 non-null   int64  \n",
            " 78  SaleType             2073 non-null   object \n",
            " 79  SaleCondition        2073 non-null   object \n",
            " 80  Property_Sale_Price  2073 non-null   int64  \n",
            "dtypes: float64(3), int64(35), object(43)\n",
            "memory usage: 1.3+ MB\n"
          ]
        }
      ]
    },
    {
      "cell_type": "markdown",
      "source": [
        "#TAKING CARE OF NULL VALUES"
      ],
      "metadata": {
        "id": "6whgYyUDpbUn"
      }
    },
    {
      "cell_type": "code",
      "source": [
        "dataset.isna().sum()"
      ],
      "metadata": {
        "colab": {
          "base_uri": "https://localhost:8080/"
        },
        "id": "IhUxRiU6Kkk-",
        "outputId": "fa4cccf6-d728-46bd-fe0a-fe1b86632cf3"
      },
      "execution_count": null,
      "outputs": [
        {
          "output_type": "execute_result",
          "data": {
            "text/plain": [
              "Id                       0\n",
              "Dwell_Type               0\n",
              "Zone_Class               0\n",
              "LotFrontage            320\n",
              "LotArea                  0\n",
              "                      ... \n",
              "MoSold                   0\n",
              "YrSold                   0\n",
              "SaleType                 0\n",
              "SaleCondition            0\n",
              "Property_Sale_Price      0\n",
              "Length: 81, dtype: int64"
            ]
          },
          "metadata": {},
          "execution_count": 114
        }
      ]
    },
    {
      "cell_type": "code",
      "source": [
        "dataset.drop([\"Alley\",\"PoolQC\",\"Fence\",\"MiscFeature\",\"FireplaceQu\"],axis=1,inplace=True)"
      ],
      "metadata": {
        "id": "S5uYJxjCIqss"
      },
      "execution_count": null,
      "outputs": []
    },
    {
      "cell_type": "code",
      "source": [
        "dataset.info()"
      ],
      "metadata": {
        "colab": {
          "base_uri": "https://localhost:8080/"
        },
        "id": "_usfmIvPJFZC",
        "outputId": "5cb6b3ac-c22d-4074-855b-ca2cf0b1b29d"
      },
      "execution_count": null,
      "outputs": [
        {
          "output_type": "stream",
          "name": "stdout",
          "text": [
            "<class 'pandas.core.frame.DataFrame'>\n",
            "RangeIndex: 2073 entries, 0 to 2072\n",
            "Data columns (total 76 columns):\n",
            " #   Column               Non-Null Count  Dtype  \n",
            "---  ------               --------------  -----  \n",
            " 0   Id                   2073 non-null   int64  \n",
            " 1   Dwell_Type           2073 non-null   int64  \n",
            " 2   Zone_Class           2073 non-null   object \n",
            " 3   LotFrontage          1753 non-null   float64\n",
            " 4   LotArea              2073 non-null   int64  \n",
            " 5   Road_Type            2073 non-null   object \n",
            " 6   Property_Shape       2073 non-null   object \n",
            " 7   LandContour          2073 non-null   object \n",
            " 8   Utilities            2073 non-null   object \n",
            " 9   LotConfig            2073 non-null   object \n",
            " 10  LandSlope            2073 non-null   object \n",
            " 11  Neighborhood         2073 non-null   object \n",
            " 12  Condition1           2073 non-null   object \n",
            " 13  Condition2           2073 non-null   object \n",
            " 14  Dwelling_Type        2073 non-null   object \n",
            " 15  HouseStyle           2073 non-null   object \n",
            " 16  OverallQual          2073 non-null   int64  \n",
            " 17  OverallCond          2073 non-null   int64  \n",
            " 18  YearBuilt            2073 non-null   int64  \n",
            " 19  YearRemodAdd         2073 non-null   int64  \n",
            " 20  RoofStyle            2073 non-null   object \n",
            " 21  RoofMatl             2073 non-null   object \n",
            " 22  Exterior1st          2073 non-null   object \n",
            " 23  Exterior2nd          2073 non-null   object \n",
            " 24  MasVnrType           2059 non-null   object \n",
            " 25  MasVnrArea           2059 non-null   float64\n",
            " 26  ExterQual            2073 non-null   object \n",
            " 27  ExterCond            2073 non-null   object \n",
            " 28  Foundation           2073 non-null   object \n",
            " 29  BsmtQual             2014 non-null   object \n",
            " 30  BsmtCond             2014 non-null   object \n",
            " 31  BsmtExposure         2012 non-null   object \n",
            " 32  BsmtFinType1         2014 non-null   object \n",
            " 33  BsmtFinSF1           2073 non-null   int64  \n",
            " 34  BsmtFinType2         2013 non-null   object \n",
            " 35  BsmtFinSF2           2073 non-null   int64  \n",
            " 36  BsmtUnfSF            2073 non-null   int64  \n",
            " 37  TotalBsmtSF          2073 non-null   int64  \n",
            " 38  Heating              2073 non-null   object \n",
            " 39  HeatingQC            2073 non-null   object \n",
            " 40  CentralAir           2073 non-null   object \n",
            " 41  Electrical           2072 non-null   object \n",
            " 42  1stFlrSF             2073 non-null   int64  \n",
            " 43  2ndFlrSF             2073 non-null   int64  \n",
            " 44  LowQualFinSF         2073 non-null   int64  \n",
            " 45  GrLivArea            2073 non-null   int64  \n",
            " 46  BsmtFullBath         2073 non-null   int64  \n",
            " 47  BsmtHalfBath         2073 non-null   int64  \n",
            " 48  FullBath             2073 non-null   int64  \n",
            " 49  HalfBath             2073 non-null   int64  \n",
            " 50  BedroomAbvGr         2073 non-null   int64  \n",
            " 51  KitchenAbvGr         2073 non-null   int64  \n",
            " 52  KitchenQual          2073 non-null   object \n",
            " 53  TotRmsAbvGrd         2073 non-null   int64  \n",
            " 54  Functional           2073 non-null   object \n",
            " 55  Fireplaces           2073 non-null   int64  \n",
            " 56  GarageType           1960 non-null   object \n",
            " 57  GarageYrBlt          1960 non-null   float64\n",
            " 58  GarageFinish         1960 non-null   object \n",
            " 59  GarageCars           2073 non-null   int64  \n",
            " 60  GarageArea           2073 non-null   int64  \n",
            " 61  GarageQual           1960 non-null   object \n",
            " 62  GarageCond           1960 non-null   object \n",
            " 63  PavedDrive           2073 non-null   object \n",
            " 64  WoodDeckSF           2073 non-null   int64  \n",
            " 65  OpenPorchSF          2073 non-null   int64  \n",
            " 66  EnclosedPorch        2073 non-null   int64  \n",
            " 67  3SsnPorch            2073 non-null   int64  \n",
            " 68  ScreenPorch          2073 non-null   int64  \n",
            " 69  PoolArea             2073 non-null   int64  \n",
            " 70  MiscVal              2073 non-null   int64  \n",
            " 71  MoSold               2073 non-null   int64  \n",
            " 72  YrSold               2073 non-null   int64  \n",
            " 73  SaleType             2073 non-null   object \n",
            " 74  SaleCondition        2073 non-null   object \n",
            " 75  Property_Sale_Price  2073 non-null   int64  \n",
            "dtypes: float64(3), int64(35), object(38)\n",
            "memory usage: 1.2+ MB\n"
          ]
        }
      ]
    },
    {
      "cell_type": "code",
      "source": [
        "dataset[\"LotFrontage\"]=dataset[\"LotFrontage\"].fillna(dataset[\"LotFrontage\"].mean())"
      ],
      "metadata": {
        "id": "4NMO_AuZJ5yl"
      },
      "execution_count": null,
      "outputs": []
    },
    {
      "cell_type": "code",
      "source": [
        "\n",
        "dataset=dataset.fillna(dataset.bfill())\n"
      ],
      "metadata": {
        "id": "CikdzXWIUVfA"
      },
      "execution_count": null,
      "outputs": []
    },
    {
      "cell_type": "code",
      "source": [
        "dataset[\"GarageYrBlt\"]=dataset[\"GarageYrBlt\"].fillna(dataset[\"GarageYrBlt\"].mean())"
      ],
      "metadata": {
        "id": "HnP-lP2hWCCE"
      },
      "execution_count": null,
      "outputs": []
    },
    {
      "cell_type": "code",
      "source": [
        "dataset[\"MasVnrArea\"]=dataset[\"MasVnrArea\"].fillna(dataset[\"MasVnrArea\"].mean())"
      ],
      "metadata": {
        "id": "gKwNuuFPY_L_"
      },
      "execution_count": null,
      "outputs": []
    },
    {
      "cell_type": "code",
      "source": [
        "dataset.info()"
      ],
      "metadata": {
        "colab": {
          "base_uri": "https://localhost:8080/"
        },
        "id": "ooqKmVToYi7d",
        "outputId": "b3d97fef-4642-444b-bae0-6f89757b8265"
      },
      "execution_count": null,
      "outputs": [
        {
          "output_type": "stream",
          "name": "stdout",
          "text": [
            "<class 'pandas.core.frame.DataFrame'>\n",
            "RangeIndex: 2073 entries, 0 to 2072\n",
            "Data columns (total 76 columns):\n",
            " #   Column               Non-Null Count  Dtype  \n",
            "---  ------               --------------  -----  \n",
            " 0   Id                   2073 non-null   int64  \n",
            " 1   Dwell_Type           2073 non-null   int64  \n",
            " 2   Zone_Class           2073 non-null   object \n",
            " 3   LotFrontage          2073 non-null   float64\n",
            " 4   LotArea              2073 non-null   int64  \n",
            " 5   Road_Type            2073 non-null   object \n",
            " 6   Property_Shape       2073 non-null   object \n",
            " 7   LandContour          2073 non-null   object \n",
            " 8   Utilities            2073 non-null   object \n",
            " 9   LotConfig            2073 non-null   object \n",
            " 10  LandSlope            2073 non-null   object \n",
            " 11  Neighborhood         2073 non-null   object \n",
            " 12  Condition1           2073 non-null   object \n",
            " 13  Condition2           2073 non-null   object \n",
            " 14  Dwelling_Type        2073 non-null   object \n",
            " 15  HouseStyle           2073 non-null   object \n",
            " 16  OverallQual          2073 non-null   int64  \n",
            " 17  OverallCond          2073 non-null   int64  \n",
            " 18  YearBuilt            2073 non-null   int64  \n",
            " 19  YearRemodAdd         2073 non-null   int64  \n",
            " 20  RoofStyle            2073 non-null   object \n",
            " 21  RoofMatl             2073 non-null   object \n",
            " 22  Exterior1st          2073 non-null   object \n",
            " 23  Exterior2nd          2073 non-null   object \n",
            " 24  MasVnrType           2073 non-null   object \n",
            " 25  MasVnrArea           2073 non-null   float64\n",
            " 26  ExterQual            2073 non-null   object \n",
            " 27  ExterCond            2073 non-null   object \n",
            " 28  Foundation           2073 non-null   object \n",
            " 29  BsmtQual             2073 non-null   object \n",
            " 30  BsmtCond             2073 non-null   object \n",
            " 31  BsmtExposure         2073 non-null   object \n",
            " 32  BsmtFinType1         2073 non-null   object \n",
            " 33  BsmtFinSF1           2073 non-null   int64  \n",
            " 34  BsmtFinType2         2073 non-null   object \n",
            " 35  BsmtFinSF2           2073 non-null   int64  \n",
            " 36  BsmtUnfSF            2073 non-null   int64  \n",
            " 37  TotalBsmtSF          2073 non-null   int64  \n",
            " 38  Heating              2073 non-null   object \n",
            " 39  HeatingQC            2073 non-null   object \n",
            " 40  CentralAir           2073 non-null   object \n",
            " 41  Electrical           2073 non-null   object \n",
            " 42  1stFlrSF             2073 non-null   int64  \n",
            " 43  2ndFlrSF             2073 non-null   int64  \n",
            " 44  LowQualFinSF         2073 non-null   int64  \n",
            " 45  GrLivArea            2073 non-null   int64  \n",
            " 46  BsmtFullBath         2073 non-null   int64  \n",
            " 47  BsmtHalfBath         2073 non-null   int64  \n",
            " 48  FullBath             2073 non-null   int64  \n",
            " 49  HalfBath             2073 non-null   int64  \n",
            " 50  BedroomAbvGr         2073 non-null   int64  \n",
            " 51  KitchenAbvGr         2073 non-null   int64  \n",
            " 52  KitchenQual          2073 non-null   object \n",
            " 53  TotRmsAbvGrd         2073 non-null   int64  \n",
            " 54  Functional           2073 non-null   object \n",
            " 55  Fireplaces           2073 non-null   int64  \n",
            " 56  GarageType           2073 non-null   object \n",
            " 57  GarageYrBlt          2073 non-null   float64\n",
            " 58  GarageFinish         2073 non-null   object \n",
            " 59  GarageCars           2073 non-null   int64  \n",
            " 60  GarageArea           2073 non-null   int64  \n",
            " 61  GarageQual           2073 non-null   object \n",
            " 62  GarageCond           2073 non-null   object \n",
            " 63  PavedDrive           2073 non-null   object \n",
            " 64  WoodDeckSF           2073 non-null   int64  \n",
            " 65  OpenPorchSF          2073 non-null   int64  \n",
            " 66  EnclosedPorch        2073 non-null   int64  \n",
            " 67  3SsnPorch            2073 non-null   int64  \n",
            " 68  ScreenPorch          2073 non-null   int64  \n",
            " 69  PoolArea             2073 non-null   int64  \n",
            " 70  MiscVal              2073 non-null   int64  \n",
            " 71  MoSold               2073 non-null   int64  \n",
            " 72  YrSold               2073 non-null   int64  \n",
            " 73  SaleType             2073 non-null   object \n",
            " 74  SaleCondition        2073 non-null   object \n",
            " 75  Property_Sale_Price  2073 non-null   int64  \n",
            "dtypes: float64(3), int64(35), object(38)\n",
            "memory usage: 1.2+ MB\n"
          ]
        }
      ]
    },
    {
      "cell_type": "code",
      "source": [
        "dataset.isnull().sum()"
      ],
      "metadata": {
        "colab": {
          "base_uri": "https://localhost:8080/"
        },
        "id": "I7L9w-5WNHxJ",
        "outputId": "73787ee3-f88b-4bf7-91e5-b3439db8ec5f"
      },
      "execution_count": null,
      "outputs": [
        {
          "output_type": "execute_result",
          "data": {
            "text/plain": [
              "Id                     0\n",
              "Dwell_Type             0\n",
              "Zone_Class             0\n",
              "LotFrontage            0\n",
              "LotArea                0\n",
              "                      ..\n",
              "MoSold                 0\n",
              "YrSold                 0\n",
              "SaleType               0\n",
              "SaleCondition          0\n",
              "Property_Sale_Price    0\n",
              "Length: 76, dtype: int64"
            ]
          },
          "metadata": {},
          "execution_count": 133
        }
      ]
    },
    {
      "cell_type": "code",
      "source": [
        "sns.boxplot(dataset[\"Property_Sale_Price\"])"
      ],
      "metadata": {
        "colab": {
          "base_uri": "https://localhost:8080/",
          "height": 354
        },
        "id": "uB8y6yVHQJAS",
        "outputId": "a2f57f1d-8792-4fff-c9a7-588053af37c6"
      },
      "execution_count": null,
      "outputs": [
        {
          "output_type": "stream",
          "name": "stderr",
          "text": [
            "/usr/local/lib/python3.8/dist-packages/seaborn/_decorators.py:36: FutureWarning: Pass the following variable as a keyword arg: x. From version 0.12, the only valid positional argument will be `data`, and passing other arguments without an explicit keyword will result in an error or misinterpretation.\n",
            "  warnings.warn(\n"
          ]
        },
        {
          "output_type": "execute_result",
          "data": {
            "text/plain": [
              "<AxesSubplot:xlabel='Property_Sale_Price'>"
            ]
          },
          "metadata": {},
          "execution_count": 135
        },
        {
          "output_type": "display_data",
          "data": {
            "text/plain": [
              "<Figure size 432x288 with 1 Axes>"
            ],
            "image/png": "[encoded data removed]"
          },
          "metadata": {
            "needs_background": "light"
          }
        }
      ]
    },
    {
      "cell_type": "code",
      "source": [
        "sns.boxplot(dataset[\"LotFrontage\"])"
      ],
      "metadata": {
        "colab": {
          "base_uri": "https://localhost:8080/",
          "height": 353
        },
        "id": "D13eui9eQ3nf",
        "outputId": "b3f45bab-6e1b-48c8-b752-be0dfacc3c17"
      },
      "execution_count": null,
      "outputs": [
        {
          "output_type": "stream",
          "name": "stderr",
          "text": [
            "/usr/local/lib/python3.8/dist-packages/seaborn/_decorators.py:36: FutureWarning: Pass the following variable as a keyword arg: x. From version 0.12, the only valid positional argument will be `data`, and passing other arguments without an explicit keyword will result in an error or misinterpretation.\n",
            "  warnings.warn(\n"
          ]
        },
        {
          "output_type": "execute_result",
          "data": {
            "text/plain": [
              "<AxesSubplot:xlabel='LotFrontage'>"
            ]
          },
          "metadata": {},
          "execution_count": 136
        },
        {
          "output_type": "display_data",
          "data": {
            "text/plain": [
              "<Figure size 432x288 with 1 Axes>"
            ],
            "image/png": "[encoded data removed]"
          },
          "metadata": {
            "needs_background": "light"
          }
        }
      ]
    },
    {
      "cell_type": "markdown",
      "source": [
        "# TAKING CARE OF OUTLIERS"
      ],
      "metadata": {
        "id": "j0SqWhoKph4I"
      }
    },
    {
      "cell_type": "code",
      "source": [
        "\n",
        "q1=dataset[\"Property_Sale_Price\"].quantile(0.25)\n",
        "q3=dataset[\"Property_Sale_Price\"].quantile(0.75)\n",
        "iqr=q3-q1\n",
        "lower_lmt=q1-1.5*iqr\n",
        "upper_lmt=q3+1.5*iqr\n",
        "dataset=dataset[((dataset[\"Property_Sale_Price\"]>lower_lmt) & (dataset[\"Property_Sale_Price\"]<upper_lmt))]\n",
        "  "
      ],
      "metadata": {
        "id": "1CtFdqLkQOsU"
      },
      "execution_count": null,
      "outputs": []
    },
    {
      "cell_type": "code",
      "source": [
        "q1=dataset[\"LotFrontage\"].quantile(0.25)\n",
        "q3=dataset[\"LotFrontage\"].quantile(0.75)\n",
        "iqr=q3-q1\n",
        "print(q1,q3)\n",
        "lower_lmt=q1-1.5*iqr\n",
        "upper_lmt=q3+1.5*iqr\n",
        "dataset=dataset[((dataset[\"LotFrontage\"]>lower_lmt) & (dataset[\"LotFrontage\"]<upper_lmt))]"
      ],
      "metadata": {
        "colab": {
          "base_uri": "https://localhost:8080/"
        },
        "id": "swo3e2Auaxgk",
        "outputId": "27d0f458-b07f-4d44-c8a5-9899c313481a"
      },
      "execution_count": null,
      "outputs": [
        {
          "output_type": "stream",
          "name": "stdout",
          "text": [
            "60.0 79.0\n"
          ]
        }
      ]
    },
    {
      "cell_type": "code",
      "source": [
        "sns.boxplot(dataset[\"Property_Sale_Price\"])"
      ],
      "metadata": {
        "colab": {
          "base_uri": "https://localhost:8080/",
          "height": 354
        },
        "id": "J8ufnDHWaSWB",
        "outputId": "5b99e0a1-5181-4dce-c125-77b1d64bc184"
      },
      "execution_count": null,
      "outputs": [
        {
          "output_type": "stream",
          "name": "stderr",
          "text": [
            "/usr/local/lib/python3.8/dist-packages/seaborn/_decorators.py:36: FutureWarning: Pass the following variable as a keyword arg: x. From version 0.12, the only valid positional argument will be `data`, and passing other arguments without an explicit keyword will result in an error or misinterpretation.\n",
            "  warnings.warn(\n"
          ]
        },
        {
          "output_type": "execute_result",
          "data": {
            "text/plain": [
              "<AxesSubplot:xlabel='Property_Sale_Price'>"
            ]
          },
          "metadata": {},
          "execution_count": 143
        },
        {
          "output_type": "display_data",
          "data": {
            "text/plain": [
              "<Figure size 432x288 with 1 Axes>"
            ],
            "image/png": "[encoded data removed]"
          },
          "metadata": {
            "needs_background": "light"
          }
        }
      ]
    },
    {
      "cell_type": "code",
      "source": [
        "sns.boxplot(dataset[\"LotFrontage\"])"
      ],
      "metadata": {
        "colab": {
          "base_uri": "https://localhost:8080/",
          "height": 353
        },
        "id": "2WzhWYPIa8qA",
        "outputId": "ad0c6a86-e2a1-4618-92ff-64881c90affb"
      },
      "execution_count": null,
      "outputs": [
        {
          "output_type": "stream",
          "name": "stderr",
          "text": [
            "/usr/local/lib/python3.8/dist-packages/seaborn/_decorators.py:36: FutureWarning: Pass the following variable as a keyword arg: x. From version 0.12, the only valid positional argument will be `data`, and passing other arguments without an explicit keyword will result in an error or misinterpretation.\n",
            "  warnings.warn(\n"
          ]
        },
        {
          "output_type": "execute_result",
          "data": {
            "text/plain": [
              "<AxesSubplot:xlabel='LotFrontage'>"
            ]
          },
          "metadata": {},
          "execution_count": 145
        },
        {
          "output_type": "display_data",
          "data": {
            "text/plain": [
              "<Figure size 432x288 with 1 Axes>"
            ],
            "image/png": "[encoded data removed]"
          },
          "metadata": {
            "needs_background": "light"
          }
        }
      ]
    },
    {
      "cell_type": "code",
      "source": [
        "sns.boxplot(dataset[\"Dwell_Type\"])"
      ],
      "metadata": {
        "colab": {
          "base_uri": "https://localhost:8080/",
          "height": 354
        },
        "id": "2c5MF-ZTbLq3",
        "outputId": "1221605a-e62c-4592-fb6b-e22f0e9ee723"
      },
      "execution_count": null,
      "outputs": [
        {
          "output_type": "stream",
          "name": "stderr",
          "text": [
            "/usr/local/lib/python3.8/dist-packages/seaborn/_decorators.py:36: FutureWarning: Pass the following variable as a keyword arg: x. From version 0.12, the only valid positional argument will be `data`, and passing other arguments without an explicit keyword will result in an error or misinterpretation.\n",
            "  warnings.warn(\n"
          ]
        },
        {
          "output_type": "execute_result",
          "data": {
            "text/plain": [
              "<AxesSubplot:xlabel='Dwell_Type'>"
            ]
          },
          "metadata": {},
          "execution_count": 147
        },
        {
          "output_type": "display_data",
          "data": {
            "text/plain": [
              "<Figure size 432x288 with 1 Axes>"
            ],
            "image/png": "[encoded data removed]"
          },
          "metadata": {
            "needs_background": "light"
          }
        }
      ]
    },
    {
      "cell_type": "code",
      "source": [
        "q1=dataset[\"Dwell_Type\"].quantile(0.25)\n",
        "q3=dataset[\"Dwell_Type\"].quantile(0.75)\n",
        "iqr=q3-q1\n",
        "print(q1,q3)\n",
        "lower_lmt=q1-1.5*iqr\n",
        "upper_lmt=q3+1.5*iqr\n",
        "dataset=dataset[((dataset[\"Dwell_Type\"]>lower_lmt) & (dataset[\"Dwell_Type\"]<upper_lmt))]"
      ],
      "metadata": {
        "colab": {
          "base_uri": "https://localhost:8080/"
        },
        "id": "5TpEWSAJbRF0",
        "outputId": "c9154cf4-197e-4867-ead1-22343b11dea1"
      },
      "execution_count": null,
      "outputs": [
        {
          "output_type": "stream",
          "name": "stdout",
          "text": [
            "20.0 70.0\n"
          ]
        }
      ]
    },
    {
      "cell_type": "code",
      "source": [
        "sns.boxplot(dataset[\"Dwell_Type\"])"
      ],
      "metadata": {
        "colab": {
          "base_uri": "https://localhost:8080/",
          "height": 354
        },
        "id": "RYFHndJBbW1Z",
        "outputId": "389feef5-f9bc-4885-be73-27a3d50721b5"
      },
      "execution_count": null,
      "outputs": [
        {
          "output_type": "stream",
          "name": "stderr",
          "text": [
            "/usr/local/lib/python3.8/dist-packages/seaborn/_decorators.py:36: FutureWarning: Pass the following variable as a keyword arg: x. From version 0.12, the only valid positional argument will be `data`, and passing other arguments without an explicit keyword will result in an error or misinterpretation.\n",
            "  warnings.warn(\n"
          ]
        },
        {
          "output_type": "execute_result",
          "data": {
            "text/plain": [
              "<AxesSubplot:xlabel='Dwell_Type'>"
            ]
          },
          "metadata": {},
          "execution_count": 149
        },
        {
          "output_type": "display_data",
          "data": {
            "text/plain": [
              "<Figure size 432x288 with 1 Axes>"
            ],
            "image/png": "[encoded data removed]"
          },
          "metadata": {
            "needs_background": "light"
          }
        }
      ]
    },
    {
      "cell_type": "code",
      "source": [
        "dataset.info()"
      ],
      "metadata": {
        "colab": {
          "base_uri": "https://localhost:8080/"
        },
        "id": "Wk1TnFTYbCIF",
        "outputId": "c98320d9-e035-4bf4-a3da-25c93ed75cd5"
      },
      "execution_count": null,
      "outputs": [
        {
          "output_type": "stream",
          "name": "stdout",
          "text": [
            "<class 'pandas.core.frame.DataFrame'>\n",
            "Int64Index: 1714 entries, 0 to 2072\n",
            "Data columns (total 76 columns):\n",
            " #   Column               Non-Null Count  Dtype  \n",
            "---  ------               --------------  -----  \n",
            " 0   Id                   1714 non-null   int64  \n",
            " 1   Dwell_Type           1714 non-null   int64  \n",
            " 2   Zone_Class           1714 non-null   object \n",
            " 3   LotFrontage          1714 non-null   float64\n",
            " 4   LotArea              1714 non-null   int64  \n",
            " 5   Road_Type            1714 non-null   object \n",
            " 6   Property_Shape       1714 non-null   object \n",
            " 7   LandContour          1714 non-null   object \n",
            " 8   Utilities            1714 non-null   object \n",
            " 9   LotConfig            1714 non-null   object \n",
            " 10  LandSlope            1714 non-null   object \n",
            " 11  Neighborhood         1714 non-null   object \n",
            " 12  Condition1           1714 non-null   object \n",
            " 13  Condition2           1714 non-null   object \n",
            " 14  Dwelling_Type        1714 non-null   object \n",
            " 15  HouseStyle           1714 non-null   object \n",
            " 16  OverallQual          1714 non-null   int64  \n",
            " 17  OverallCond          1714 non-null   int64  \n",
            " 18  YearBuilt            1714 non-null   int64  \n",
            " 19  YearRemodAdd         1714 non-null   int64  \n",
            " 20  RoofStyle            1714 non-null   object \n",
            " 21  RoofMatl             1714 non-null   object \n",
            " 22  Exterior1st          1714 non-null   object \n",
            " 23  Exterior2nd          1714 non-null   object \n",
            " 24  MasVnrType           1714 non-null   object \n",
            " 25  MasVnrArea           1714 non-null   float64\n",
            " 26  ExterQual            1714 non-null   object \n",
            " 27  ExterCond            1714 non-null   object \n",
            " 28  Foundation           1714 non-null   object \n",
            " 29  BsmtQual             1714 non-null   object \n",
            " 30  BsmtCond             1714 non-null   object \n",
            " 31  BsmtExposure         1714 non-null   object \n",
            " 32  BsmtFinType1         1714 non-null   object \n",
            " 33  BsmtFinSF1           1714 non-null   int64  \n",
            " 34  BsmtFinType2         1714 non-null   object \n",
            " 35  BsmtFinSF2           1714 non-null   int64  \n",
            " 36  BsmtUnfSF            1714 non-null   int64  \n",
            " 37  TotalBsmtSF          1714 non-null   int64  \n",
            " 38  Heating              1714 non-null   object \n",
            " 39  HeatingQC            1714 non-null   object \n",
            " 40  CentralAir           1714 non-null   object \n",
            " 41  Electrical           1714 non-null   object \n",
            " 42  1stFlrSF             1714 non-null   int64  \n",
            " 43  2ndFlrSF             1714 non-null   int64  \n",
            " 44  LowQualFinSF         1714 non-null   int64  \n",
            " 45  GrLivArea            1714 non-null   int64  \n",
            " 46  BsmtFullBath         1714 non-null   int64  \n",
            " 47  BsmtHalfBath         1714 non-null   int64  \n",
            " 48  FullBath             1714 non-null   int64  \n",
            " 49  HalfBath             1714 non-null   int64  \n",
            " 50  BedroomAbvGr         1714 non-null   int64  \n",
            " 51  KitchenAbvGr         1714 non-null   int64  \n",
            " 52  KitchenQual          1714 non-null   object \n",
            " 53  TotRmsAbvGrd         1714 non-null   int64  \n",
            " 54  Functional           1714 non-null   object \n",
            " 55  Fireplaces           1714 non-null   int64  \n",
            " 56  GarageType           1714 non-null   object \n",
            " 57  GarageYrBlt          1714 non-null   float64\n",
            " 58  GarageFinish         1714 non-null   object \n",
            " 59  GarageCars           1714 non-null   int64  \n",
            " 60  GarageArea           1714 non-null   int64  \n",
            " 61  GarageQual           1714 non-null   object \n",
            " 62  GarageCond           1714 non-null   object \n",
            " 63  PavedDrive           1714 non-null   object \n",
            " 64  WoodDeckSF           1714 non-null   int64  \n",
            " 65  OpenPorchSF          1714 non-null   int64  \n",
            " 66  EnclosedPorch        1714 non-null   int64  \n",
            " 67  3SsnPorch            1714 non-null   int64  \n",
            " 68  ScreenPorch          1714 non-null   int64  \n",
            " 69  PoolArea             1714 non-null   int64  \n",
            " 70  MiscVal              1714 non-null   int64  \n",
            " 71  MoSold               1714 non-null   int64  \n",
            " 72  YrSold               1714 non-null   int64  \n",
            " 73  SaleType             1714 non-null   object \n",
            " 74  SaleCondition        1714 non-null   object \n",
            " 75  Property_Sale_Price  1714 non-null   int64  \n",
            "dtypes: float64(3), int64(35), object(38)\n",
            "memory usage: 1.0+ MB\n"
          ]
        }
      ]
    },
    {
      "cell_type": "markdown",
      "source": [
        "# ENCODING"
      ],
      "metadata": {
        "id": "6nX-4WfJpn2g"
      }
    },
    {
      "cell_type": "code",
      "source": [
        "from sklearn.preprocessing import LabelEncoder\n",
        "le=LabelEncoder()\n",
        "def encode(data,columns):\n",
        "  for column in columns:\n",
        "    data[column]=le.fit_transform(data[column])\n",
        "  return data"
      ],
      "metadata": {
        "id": "KTAewPt8R4Yx"
      },
      "execution_count": null,
      "outputs": []
    },
    {
      "cell_type": "code",
      "source": [
        "columns=dataset.select_dtypes(include ='object')\n",
        "encode(dataset,columns)"
      ],
      "metadata": {
        "colab": {
          "base_uri": "https://localhost:8080/",
          "height": 487
        },
        "id": "F84h9saPSVQY",
        "outputId": "86a0b68d-a3c3-4e65-fc01-6fab5f26a371"
      },
      "execution_count": null,
      "outputs": [
        {
          "output_type": "execute_result",
          "data": {
            "text/plain": [
              "       Id  Dwell_Type  Zone_Class  LotFrontage  LotArea  Road_Type  \\\n",
              "0       1          60           3    65.000000     8450          1   \n",
              "1       2          20           3    80.000000     9600          1   \n",
              "2       3          60           3    68.000000    11250          1   \n",
              "3       4          70           3    60.000000     9550          1   \n",
              "4       5          60           3    84.000000    14260          1   \n",
              "...   ...         ...         ...          ...      ...        ...   \n",
              "2067  941          20           3    55.000000    12640          1   \n",
              "2068  942          60           3    72.056475     8755          1   \n",
              "2069  943          90           3    63.000000     7711          1   \n",
              "2071  945          20           3    52.000000    14375          1   \n",
              "2072  946          50           4    98.000000     8820          1   \n",
              "\n",
              "      Property_Shape  LandContour  Utilities  LotConfig  ...  EnclosedPorch  \\\n",
              "0                  3            3          0          4  ...              0   \n",
              "1                  3            3          0          2  ...              0   \n",
              "2                  0            3          0          4  ...              0   \n",
              "3                  0            3          0          0  ...            272   \n",
              "4                  0            3          0          2  ...              0   \n",
              "...              ...          ...        ...        ...  ...            ...   \n",
              "2067               0            3          0          4  ...              0   \n",
              "2068               0            3          0          2  ...              0   \n",
              "2069               0            3          0          4  ...              0   \n",
              "2071               0            3          1          1  ...              0   \n",
              "2072               3            3          0          0  ...            244   \n",
              "\n",
              "      3SsnPorch  ScreenPorch  PoolArea  MiscVal  MoSold  YrSold  SaleType  \\\n",
              "0             0            0         0        0       2    2008         8   \n",
              "1             0            0         0        0       5    2007         8   \n",
              "2             0            0         0        0       9    2008         8   \n",
              "3             0            0         0        0       2    2006         8   \n",
              "4             0            0         0        0      12    2008         8   \n",
              "...         ...          ...       ...      ...     ...     ...       ...   \n",
              "2067          0            0         0        0       7    2006         8   \n",
              "2068        168            0         0        0       6    2009         8   \n",
              "2069          0            0         0        0       8    2007         7   \n",
              "2071          0          233         0        0       1    2009         0   \n",
              "2072          0            0         0        0       9    2009         8   \n",
              "\n",
              "      SaleCondition  Property_Sale_Price  \n",
              "0                 4               208500  \n",
              "1                 4               181500  \n",
              "2                 4               223500  \n",
              "3                 0               140000  \n",
              "4                 4               250000  \n",
              "...             ...                  ...  \n",
              "2067              4               150900  \n",
              "2068              4               214000  \n",
              "2069              0               150000  \n",
              "2071              0               137500  \n",
              "2072              4               124900  \n",
              "\n",
              "[1714 rows x 76 columns]"
            ],
            "text/html": [
              "\n",
              "  <div id=\"df-077ecdb0-7763-48ea-b3f3-8819041b66d4\">\n",
              "    <div class=\"colab-df-container\">\n",
              "      <div>\n",
              "<style scoped>\n",
              "    .dataframe tbody tr th:only-of-type {\n",
              "        vertical-align: middle;\n",
              "    }\n",
              "\n",
              "    .dataframe tbody tr th {\n",
              "        vertical-align: top;\n",
              "    }\n",
              "\n",
              "    .dataframe thead th {\n",
              "        text-align: right;\n",
              "    }\n",
              "</style>\n",
              "<table border=\"1\" class=\"dataframe\">\n",
              "  <thead>\n",
              "    <tr style=\"text-align: right;\">\n",
              "      <th></th>\n",
              "      <th>Id</th>\n",
              "      <th>Dwell_Type</th>\n",
              "      <th>Zone_Class</th>\n",
              "      <th>LotFrontage</th>\n",
              "      <th>LotArea</th>\n",
              "      <th>Road_Type</th>\n",
              "      <th>Property_Shape</th>\n",
              "      <th>LandContour</th>\n",
              "      <th>Utilities</th>\n",
              "      <th>LotConfig</th>\n",
              "      <th>...</th>\n",
              "      <th>EnclosedPorch</th>\n",
              "      <th>3SsnPorch</th>\n",
              "      <th>ScreenPorch</th>\n",
              "      <th>PoolArea</th>\n",
              "      <th>MiscVal</th>\n",
              "      <th>MoSold</th>\n",
              "      <th>YrSold</th>\n",
              "      <th>SaleType</th>\n",
              "      <th>SaleCondition</th>\n",
              "      <th>Property_Sale_Price</th>\n",
              "    </tr>\n",
              "  </thead>\n",
              "  <tbody>\n",
              "    <tr>\n",
              "      <th>0</th>\n",
              "      <td>1</td>\n",
              "      <td>60</td>\n",
              "      <td>3</td>\n",
              "      <td>65.000000</td>\n",
              "      <td>8450</td>\n",
              "      <td>1</td>\n",
              "      <td>3</td>\n",
              "      <td>3</td>\n",
              "      <td>0</td>\n",
              "      <td>4</td>\n",
              "      <td>...</td>\n",
              "      <td>0</td>\n",
              "      <td>0</td>\n",
              "      <td>0</td>\n",
              "      <td>0</td>\n",
              "      <td>0</td>\n",
              "      <td>2</td>\n",
              "      <td>2008</td>\n",
              "      <td>8</td>\n",
              "      <td>4</td>\n",
              "      <td>208500</td>\n",
              "    </tr>\n",
              "    <tr>\n",
              "      <th>1</th>\n",
              "      <td>2</td>\n",
              "      <td>20</td>\n",
              "      <td>3</td>\n",
              "      <td>80.000000</td>\n",
              "      <td>9600</td>\n",
              "      <td>1</td>\n",
              "      <td>3</td>\n",
              "      <td>3</td>\n",
              "      <td>0</td>\n",
              "      <td>2</td>\n",
              "      <td>...</td>\n",
              "      <td>0</td>\n",
              "      <td>0</td>\n",
              "      <td>0</td>\n",
              "      <td>0</td>\n",
              "      <td>0</td>\n",
              "      <td>5</td>\n",
              "      <td>2007</td>\n",
              "      <td>8</td>\n",
              "      <td>4</td>\n",
              "      <td>181500</td>\n",
              "    </tr>\n",
              "    <tr>\n",
              "      <th>2</th>\n",
              "      <td>3</td>\n",
              "      <td>60</td>\n",
              "      <td>3</td>\n",
              "      <td>68.000000</td>\n",
              "      <td>11250</td>\n",
              "      <td>1</td>\n",
              "      <td>0</td>\n",
              "      <td>3</td>\n",
              "      <td>0</td>\n",
              "      <td>4</td>\n",
              "      <td>...</td>\n",
              "      <td>0</td>\n",
              "      <td>0</td>\n",
              "      <td>0</td>\n",
              "      <td>0</td>\n",
              "      <td>0</td>\n",
              "      <td>9</td>\n",
              "      <td>2008</td>\n",
              "      <td>8</td>\n",
              "      <td>4</td>\n",
              "      <td>223500</td>\n",
              "    </tr>\n",
              "    <tr>\n",
              "      <th>3</th>\n",
              "      <td>4</td>\n",
              "      <td>70</td>\n",
              "      <td>3</td>\n",
              "      <td>60.000000</td>\n",
              "      <td>9550</td>\n",
              "      <td>1</td>\n",
              "      <td>0</td>\n",
              "      <td>3</td>\n",
              "      <td>0</td>\n",
              "      <td>0</td>\n",
              "      <td>...</td>\n",
              "      <td>272</td>\n",
              "      <td>0</td>\n",
              "      <td>0</td>\n",
              "      <td>0</td>\n",
              "      <td>0</td>\n",
              "      <td>2</td>\n",
              "      <td>2006</td>\n",
              "      <td>8</td>\n",
              "      <td>0</td>\n",
              "      <td>140000</td>\n",
              "    </tr>\n",
              "    <tr>\n",
              "      <th>4</th>\n",
              "      <td>5</td>\n",
              "      <td>60</td>\n",
              "      <td>3</td>\n",
              "      <td>84.000000</td>\n",
              "      <td>14260</td>\n",
              "      <td>1</td>\n",
              "      <td>0</td>\n",
              "      <td>3</td>\n",
              "      <td>0</td>\n",
              "      <td>2</td>\n",
              "      <td>...</td>\n",
              "      <td>0</td>\n",
              "      <td>0</td>\n",
              "      <td>0</td>\n",
              "      <td>0</td>\n",
              "      <td>0</td>\n",
              "      <td>12</td>\n",
              "      <td>2008</td>\n",
              "      <td>8</td>\n",
              "      <td>4</td>\n",
              "      <td>250000</td>\n",
              "    </tr>\n",
              "    <tr>\n",
              "      <th>...</th>\n",
              "      <td>...</td>\n",
              "      <td>...</td>\n",
              "      <td>...</td>\n",
              "      <td>...</td>\n",
              "      <td>...</td>\n",
              "      <td>...</td>\n",
              "      <td>...</td>\n",
              "      <td>...</td>\n",
              "      <td>...</td>\n",
              "      <td>...</td>\n",
              "      <td>...</td>\n",
              "      <td>...</td>\n",
              "      <td>...</td>\n",
              "      <td>...</td>\n",
              "      <td>...</td>\n",
              "      <td>...</td>\n",
              "      <td>...</td>\n",
              "      <td>...</td>\n",
              "      <td>...</td>\n",
              "      <td>...</td>\n",
              "      <td>...</td>\n",
              "    </tr>\n",
              "    <tr>\n",
              "      <th>2067</th>\n",
              "      <td>941</td>\n",
              "      <td>20</td>\n",
              "      <td>3</td>\n",
              "      <td>55.000000</td>\n",
              "      <td>12640</td>\n",
              "      <td>1</td>\n",
              "      <td>0</td>\n",
              "      <td>3</td>\n",
              "      <td>0</td>\n",
              "      <td>4</td>\n",
              "      <td>...</td>\n",
              "      <td>0</td>\n",
              "      <td>0</td>\n",
              "      <td>0</td>\n",
              "      <td>0</td>\n",
              "      <td>0</td>\n",
              "      <td>7</td>\n",
              "      <td>2006</td>\n",
              "      <td>8</td>\n",
              "      <td>4</td>\n",
              "      <td>150900</td>\n",
              "    </tr>\n",
              "    <tr>\n",
              "      <th>2068</th>\n",
              "      <td>942</td>\n",
              "      <td>60</td>\n",
              "      <td>3</td>\n",
              "      <td>72.056475</td>\n",
              "      <td>8755</td>\n",
              "      <td>1</td>\n",
              "      <td>0</td>\n",
              "      <td>3</td>\n",
              "      <td>0</td>\n",
              "      <td>2</td>\n",
              "      <td>...</td>\n",
              "      <td>0</td>\n",
              "      <td>168</td>\n",
              "      <td>0</td>\n",
              "      <td>0</td>\n",
              "      <td>0</td>\n",
              "      <td>6</td>\n",
              "      <td>2009</td>\n",
              "      <td>8</td>\n",
              "      <td>4</td>\n",
              "      <td>214000</td>\n",
              "    </tr>\n",
              "    <tr>\n",
              "      <th>2069</th>\n",
              "      <td>943</td>\n",
              "      <td>90</td>\n",
              "      <td>3</td>\n",
              "      <td>63.000000</td>\n",
              "      <td>7711</td>\n",
              "      <td>1</td>\n",
              "      <td>0</td>\n",
              "      <td>3</td>\n",
              "      <td>0</td>\n",
              "      <td>4</td>\n",
              "      <td>...</td>\n",
              "      <td>0</td>\n",
              "      <td>0</td>\n",
              "      <td>0</td>\n",
              "      <td>0</td>\n",
              "      <td>0</td>\n",
              "      <td>8</td>\n",
              "      <td>2007</td>\n",
              "      <td>7</td>\n",
              "      <td>0</td>\n",
              "      <td>150000</td>\n",
              "    </tr>\n",
              "    <tr>\n",
              "      <th>2071</th>\n",
              "      <td>945</td>\n",
              "      <td>20</td>\n",
              "      <td>3</td>\n",
              "      <td>52.000000</td>\n",
              "      <td>14375</td>\n",
              "      <td>1</td>\n",
              "      <td>0</td>\n",
              "      <td>3</td>\n",
              "      <td>1</td>\n",
              "      <td>1</td>\n",
              "      <td>...</td>\n",
              "      <td>0</td>\n",
              "      <td>0</td>\n",
              "      <td>233</td>\n",
              "      <td>0</td>\n",
              "      <td>0</td>\n",
              "      <td>1</td>\n",
              "      <td>2009</td>\n",
              "      <td>0</td>\n",
              "      <td>0</td>\n",
              "      <td>137500</td>\n",
              "    </tr>\n",
              "    <tr>\n",
              "      <th>2072</th>\n",
              "      <td>946</td>\n",
              "      <td>50</td>\n",
              "      <td>4</td>\n",
              "      <td>98.000000</td>\n",
              "      <td>8820</td>\n",
              "      <td>1</td>\n",
              "      <td>3</td>\n",
              "      <td>3</td>\n",
              "      <td>0</td>\n",
              "      <td>0</td>\n",
              "      <td>...</td>\n",
              "      <td>244</td>\n",
              "      <td>0</td>\n",
              "      <td>0</td>\n",
              "      <td>0</td>\n",
              "      <td>0</td>\n",
              "      <td>9</td>\n",
              "      <td>2009</td>\n",
              "      <td>8</td>\n",
              "      <td>4</td>\n",
              "      <td>124900</td>\n",
              "    </tr>\n",
              "  </tbody>\n",
              "</table>\n",
              "<p>1714 rows × 76 columns</p>\n",
              "</div>\n",
              "      <button class=\"colab-df-convert\" onclick=\"convertToInteractive('df-077ecdb0-7763-48ea-b3f3-8819041b66d4')\"\n",
              "              title=\"Convert this dataframe to an interactive table.\"\n",
              "              style=\"display:none;\">\n",
              "        \n",
              "  <svg xmlns=\"http://www.w3.org/2000/svg\" height=\"24px\"viewBox=\"0 0 24 24\"\n",
              "       width=\"24px\">\n",
              "    <path d=\"M0 0h24v24H0V0z\" fill=\"none\"/>\n",
              "    <path d=\"M18.56 5.44l.94 2.06.94-2.06 2.06-.94-2.06-.94-.94-2.06-.94 2.06-2.06.94zm-11 1L8.5 8.5l.94-2.06 2.06-.94-2.06-.94L8.5 2.5l-.94 2.06-2.06.94zm10 10l.94 2.06.94-2.06 2.06-.94-2.06-.94-.94-2.06-.94 2.06-2.06.94z\"/><path d=\"M17.41 7.96l-1.37-1.37c-.4-.4-.92-.59-1.43-.59-.52 0-1.04.2-1.43.59L10.3 9.45l-7.72 7.72c-.78.78-.78 2.05 0 2.83L4 21.41c.39.39.9.59 1.41.59.51 0 1.02-.2 1.41-.59l7.78-7.78 2.81-2.81c.8-.78.8-2.07 0-2.86zM5.41 20L4 18.59l7.72-7.72 1.47 1.35L5.41 20z\"/>\n",
              "  </svg>\n",
              "      </button>\n",
              "      \n",
              "  <style>\n",
              "    .colab-df-container {\n",
              "      display:flex;\n",
              "      flex-wrap:wrap;\n",
              "      gap: 12px;\n",
              "    }\n",
              "\n",
              "    .colab-df-convert {\n",
              "      background-color: #E8F0FE;\n",
              "      border: none;\n",
              "      border-radius: 50%;\n",
              "      cursor: pointer;\n",
              "      display: none;\n",
              "      fill: #1967D2;\n",
              "      height: 32px;\n",
              "      padding: 0 0 0 0;\n",
              "      width: 32px;\n",
              "    }\n",
              "\n",
              "    .colab-df-convert:hover {\n",
              "      background-color: #E2EBFA;\n",
              "      box-shadow: 0px 1px 2px rgba(60, 64, 67, 0.3), 0px 1px 3px 1px rgba(60, 64, 67, 0.15);\n",
              "      fill: #174EA6;\n",
              "    }\n",
              "\n",
              "    [theme=dark] .colab-df-convert {\n",
              "      background-color: #3B4455;\n",
              "      fill: #D2E3FC;\n",
              "    }\n",
              "\n",
              "    [theme=dark] .colab-df-convert:hover {\n",
              "      background-color: #434B5C;\n",
              "      box-shadow: 0px 1px 3px 1px rgba(0, 0, 0, 0.15);\n",
              "      filter: drop-shadow(0px 1px 2px rgba(0, 0, 0, 0.3));\n",
              "      fill: #FFFFFF;\n",
              "    }\n",
              "  </style>\n",
              "\n",
              "      <script>\n",
              "        const buttonEl =\n",
              "          document.querySelector('#df-077ecdb0-7763-48ea-b3f3-8819041b66d4 button.colab-df-convert');\n",
              "        buttonEl.style.display =\n",
              "          google.colab.kernel.accessAllowed ? 'block' : 'none';\n",
              "\n",
              "        async function convertToInteractive(key) {\n",
              "          const element = document.querySelector('#df-077ecdb0-7763-48ea-b3f3-8819041b66d4');\n",
              "          const dataTable =\n",
              "            await google.colab.kernel.invokeFunction('convertToInteractive',\n",
              "                                                     [key], {});\n",
              "          if (!dataTable) return;\n",
              "\n",
              "          const docLinkHtml = 'Like what you see? Visit the ' +\n",
              "            '<a target=\"_blank\" href=https://colab.research.google.com/notebooks/data_table.ipynb>data table notebook</a>'\n",
              "            + ' to learn more about interactive tables.';\n",
              "          element.innerHTML = '';\n",
              "          dataTable['output_type'] = 'display_data';\n",
              "          await google.colab.output.renderOutput(dataTable, element);\n",
              "          const docLink = document.createElement('div');\n",
              "          docLink.innerHTML = docLinkHtml;\n",
              "          element.appendChild(docLink);\n",
              "        }\n",
              "      </script>\n",
              "    </div>\n",
              "  </div>\n",
              "  "
            ]
          },
          "metadata": {},
          "execution_count": 155
        }
      ]
    },
    {
      "cell_type": "markdown",
      "source": [
        "# SPLITTING THE DATASET"
      ],
      "metadata": {
        "id": "vqcxEEBZpqH2"
      }
    },
    {
      "cell_type": "code",
      "source": [
        "x=dataset.iloc[:,:-1].values\n",
        "y=dataset.iloc[:,-1].values"
      ],
      "metadata": {
        "id": "iM2w3mQdKl_-"
      },
      "execution_count": null,
      "outputs": []
    },
    {
      "cell_type": "code",
      "source": [
        "from sklearn.model_selection import train_test_split\n",
        "x_train,x_test,y_train,y_test=train_test_split(x,y,test_size=0.3,random_state=2)"
      ],
      "metadata": {
        "id": "mdrm4NbmKuK2"
      },
      "execution_count": null,
      "outputs": []
    },
    {
      "cell_type": "code",
      "source": [
        "print(x_train)"
      ],
      "metadata": {
        "colab": {
          "base_uri": "https://localhost:8080/"
        },
        "id": "QsRL2g5ZKuzG",
        "outputId": "40774cda-8617-4088-dced-d4305e50c3bd"
      },
      "execution_count": null,
      "outputs": [
        {
          "output_type": "stream",
          "name": "stdout",
          "text": [
            "[[5.500e+02 6.000e+01 1.000e+00 ... 2.009e+03 8.000e+00 4.000e+00]\n",
            " [9.270e+02 6.000e+01 3.000e+00 ... 2.007e+03 8.000e+00 4.000e+00]\n",
            " [2.150e+02 6.000e+01 3.000e+00 ... 2.010e+03 8.000e+00 4.000e+00]\n",
            " ...\n",
            " [5.950e+02 2.000e+01 3.000e+00 ... 2.008e+03 8.000e+00 4.000e+00]\n",
            " [6.350e+02 9.000e+01 3.000e+00 ... 2.010e+03 8.000e+00 4.000e+00]\n",
            " [1.428e+03 5.000e+01 3.000e+00 ... 2.008e+03 8.000e+00 4.000e+00]]\n"
          ]
        }
      ]
    },
    {
      "cell_type": "code",
      "source": [
        "print(y_train)"
      ],
      "metadata": {
        "colab": {
          "base_uri": "https://localhost:8080/"
        },
        "id": "lkNH-meUKwAe",
        "outputId": "16fa8675-aca0-420e-f949-1e8efe502ed4"
      },
      "execution_count": null,
      "outputs": [
        {
          "output_type": "stream",
          "name": "stdout",
          "text": [
            "[263000 285000 161750 ... 110000 144000 140000]\n"
          ]
        }
      ]
    },
    {
      "cell_type": "markdown",
      "source": [
        "# APPLYING LINEAR REGRESSION"
      ],
      "metadata": {
        "id": "vauVwNF7ptzN"
      }
    },
    {
      "cell_type": "code",
      "source": [
        "from sklearn.linear_model import LinearRegression\n",
        "lr=LinearRegression()\n",
        "lr.fit(x_train,y_train)"
      ],
      "metadata": {
        "colab": {
          "base_uri": "https://localhost:8080/",
          "height": 74
        },
        "id": "foTIcQDrKzGm",
        "outputId": "8c28285d-b4ae-4dba-a109-183360ddcbff"
      },
      "execution_count": null,
      "outputs": [
        {
          "output_type": "execute_result",
          "data": {
            "text/plain": [
              "LinearRegression()"
            ],
            "text/html": [
              "<style>#sk-container-id-2 {color: black;background-color: white;}#sk-container-id-2 pre{padding: 0;}#sk-container-id-2 div.sk-toggleable {background-color: white;}#sk-container-id-2 label.sk-toggleable__label {cursor: pointer;display: block;width: 100%;margin-bottom: 0;padding: 0.3em;box-sizing: border-box;text-align: center;}#sk-container-id-2 label.sk-toggleable__label-arrow:before {content: \"▸\";float: left;margin-right: 0.25em;color: #696969;}#sk-container-id-2 label.sk-toggleable__label-arrow:hover:before {color: black;}#sk-container-id-2 div.sk-estimator:hover label.sk-toggleable__label-arrow:before {color: black;}#sk-container-id-2 div.sk-toggleable__content {max-height: 0;max-width: 0;overflow: hidden;text-align: left;background-color: #f0f8ff;}#sk-container-id-2 div.sk-toggleable__content pre {margin: 0.2em;color: black;border-radius: 0.25em;background-color: #f0f8ff;}#sk-container-id-2 input.sk-toggleable__control:checked~div.sk-toggleable__content {max-height: 200px;max-width: 100%;overflow: auto;}#sk-container-id-2 input.sk-toggleable__control:checked~label.sk-toggleable__label-arrow:before {content: \"▾\";}#sk-container-id-2 div.sk-estimator input.sk-toggleable__control:checked~label.sk-toggleable__label {background-color: #d4ebff;}#sk-container-id-2 div.sk-label input.sk-toggleable__control:checked~label.sk-toggleable__label {background-color: #d4ebff;}#sk-container-id-2 input.sk-hidden--visually {border: 0;clip: rect(1px 1px 1px 1px);clip: rect(1px, 1px, 1px, 1px);height: 1px;margin: -1px;overflow: hidden;padding: 0;position: absolute;width: 1px;}#sk-container-id-2 div.sk-estimator {font-family: monospace;background-color: #f0f8ff;border: 1px dotted black;border-radius: 0.25em;box-sizing: border-box;margin-bottom: 0.5em;}#sk-container-id-2 div.sk-estimator:hover {background-color: #d4ebff;}#sk-container-id-2 div.sk-parallel-item::after {content: \"\";width: 100%;border-bottom: 1px solid gray;flex-grow: 1;}#sk-container-id-2 div.sk-label:hover label.sk-toggleable__label {background-color: #d4ebff;}#sk-container-id-2 div.sk-serial::before {content: \"\";position: absolute;border-left: 1px solid gray;box-sizing: border-box;top: 0;bottom: 0;left: 50%;z-index: 0;}#sk-container-id-2 div.sk-serial {display: flex;flex-direction: column;align-items: center;background-color: white;padding-right: 0.2em;padding-left: 0.2em;position: relative;}#sk-container-id-2 div.sk-item {position: relative;z-index: 1;}#sk-container-id-2 div.sk-parallel {display: flex;align-items: stretch;justify-content: center;background-color: white;position: relative;}#sk-container-id-2 div.sk-item::before, #sk-container-id-2 div.sk-parallel-item::before {content: \"\";position: absolute;border-left: 1px solid gray;box-sizing: border-box;top: 0;bottom: 0;left: 50%;z-index: -1;}#sk-container-id-2 div.sk-parallel-item {display: flex;flex-direction: column;z-index: 1;position: relative;background-color: white;}#sk-container-id-2 div.sk-parallel-item:first-child::after {align-self: flex-end;width: 50%;}#sk-container-id-2 div.sk-parallel-item:last-child::after {align-self: flex-start;width: 50%;}#sk-container-id-2 div.sk-parallel-item:only-child::after {width: 0;}#sk-container-id-2 div.sk-dashed-wrapped {border: 1px dashed gray;margin: 0 0.4em 0.5em 0.4em;box-sizing: border-box;padding-bottom: 0.4em;background-color: white;}#sk-container-id-2 div.sk-label label {font-family: monospace;font-weight: bold;display: inline-block;line-height: 1.2em;}#sk-container-id-2 div.sk-label-container {text-align: center;}#sk-container-id-2 div.sk-container {/* jupyter's `normalize.less` sets `[hidden] { display: none; }` but bootstrap.min.css set `[hidden] { display: none !important; }` so we also need the `!important` here to be able to override the default hidden behavior on the sphinx rendered scikit-learn.org. See: https://github.com/scikit-learn/scikit-learn/issues/21755 */display: inline-block !important;position: relative;}#sk-container-id-2 div.sk-text-repr-fallback {display: none;}</style><div id=\"sk-container-id-2\" class=\"sk-top-container\"><div class=\"sk-text-repr-fallback\"><pre>LinearRegression()</pre><b>In a Jupyter environment, please rerun this cell to show the HTML representation or trust the notebook. <br />On GitHub, the HTML representation is unable to render, please try loading this page with nbviewer.org.</b></div><div class=\"sk-container\" hidden><div class=\"sk-item\"><div class=\"sk-estimator sk-toggleable\"><input class=\"sk-toggleable__control sk-hidden--visually\" id=\"sk-estimator-id-2\" type=\"checkbox\" checked><label for=\"sk-estimator-id-2\" class=\"sk-toggleable__label sk-toggleable__label-arrow\">LinearRegression</label><div class=\"sk-toggleable__content\"><pre>LinearRegression()</pre></div></div></div></div></div>"
            ]
          },
          "metadata": {},
          "execution_count": 160
        }
      ]
    },
    {
      "cell_type": "code",
      "source": [
        "y_pred=lr.predict(x_test)\n",
        "print(y_pred)"
      ],
      "metadata": {
        "colab": {
          "base_uri": "https://localhost:8080/"
        },
        "id": "eQT3FqVBK0yn",
        "outputId": "6dced84f-afa3-4937-9a32-929ed3313282"
      },
      "execution_count": null,
      "outputs": [
        {
          "output_type": "stream",
          "name": "stdout",
          "text": [
            "[118050.60708233 157907.44647666 254568.80743004 144510.68442715\n",
            " 215247.06860996 195360.41779086 132708.49497952 121323.60476299\n",
            "  85602.230136   295725.17350094 136527.91718789 206751.58000011\n",
            " 117952.3391129  104730.44968341 277947.32614042 214970.6825228\n",
            "  61184.32287502 121177.82911607 179385.18747114 213015.13815325\n",
            "  63711.48402879 144238.08399552 232208.10261121 208395.70455046\n",
            " 294283.97053778 145763.64425391 124507.24721188 158883.70450614\n",
            " 110748.33619006 132249.7772968  145680.67712463 270144.07768134\n",
            " 115492.31503988 116349.18377599 232294.63764234 188938.83676066\n",
            " 162810.49481524 143375.96806206 182354.95525767 282803.51689439\n",
            " 102489.62527943 206697.64933761 109899.25816194 121734.95908572\n",
            "  66862.75266838  98925.39799535  80479.38401395 130076.03295428\n",
            " 136895.13939332 199326.14794236 129607.80943258 203001.97461598\n",
            " 195469.35413993 220861.89775717 126902.54201762 172563.49555783\n",
            " 129111.70295584 232297.64493031 104584.42680584 134768.65433651\n",
            " 164887.88450731 143083.9695006  207231.29475752 191892.63846661\n",
            "  87040.934413   121227.72390308  89317.63103128 238520.63447017\n",
            " 152578.3808385  121624.59459134  99897.29678305 150636.99246542\n",
            " 205537.80932326  85775.85438575 174109.30158771 206710.70232032\n",
            " 202196.35128492 128400.45847213  99897.04412349 246705.08751692\n",
            " 171700.75562991 157179.46073283 136662.45185438 189740.91975287\n",
            " 134442.10174576 162278.17533606 145396.69278757 133819.65379322\n",
            "  73518.71042036 157007.77172897 124459.78798975 125112.70685227\n",
            " 166066.5989214  148805.49831172 138237.33633361 109579.45619128\n",
            " 132382.80784853 185175.93264773 154318.12242845 227922.55515636\n",
            " 178376.58997256 227871.09126799 116818.78163534 150738.3884609\n",
            " 119335.10821162 159621.92265699 137491.24799584 256258.09401415\n",
            " 112250.54286863 186339.67274985 109508.38174536 218674.09692878\n",
            " 148828.59666089 111744.59902886 197839.453892   118275.17242889\n",
            " 137544.70548599 136229.47112861 240227.19261253 115436.02356126\n",
            " 194610.42329615 202043.77494569 150966.33776421 234325.75754137\n",
            " 253731.27161363 118533.69383494 239545.11086373 211262.75804416\n",
            " 161671.33558883 116635.51341272 230667.39987039 148748.67768244\n",
            " 184391.26130304 204082.18799925 181885.8820514  155089.07410237\n",
            " 168061.27778826 209889.06587713 211212.13381925 151560.32388959\n",
            " 169365.81872603 227967.72491437 320057.9359284  137859.49060324\n",
            " 173244.01911073 172254.85902117 132806.39871596 215664.83615178\n",
            " 206080.61890895 149829.03596228  70556.87717486 113825.32116828\n",
            " 146254.25401261 183828.06834369 186397.0834185  144926.45333354\n",
            " 243444.36169061 140778.36840479 185196.58057337 133909.02421987\n",
            " 103587.87008975 196769.49503038 208436.26505637 180162.10596239\n",
            " 187677.94531744 191058.43245366 259924.14997631 284034.39916923\n",
            " 213849.92051541 145781.44230964 203768.90752065 230325.88197208\n",
            " 172620.46276051 230770.27331466 143925.89483511  93327.04503491\n",
            " 122631.30592142 245778.77209125 212051.40369387 117505.75902436\n",
            " 121369.78862051 265303.90538516  65534.56504452 232286.40414806\n",
            " 280075.39987363 176565.28182653 184790.70058548 190454.1697561\n",
            " 142520.03489036 223532.96246847 100061.56868506 195895.10458509\n",
            " 131007.07430883 156088.77897757 220082.02926759 168856.32163496\n",
            " 127944.53095561 179590.76399285 228433.92862384  86031.48401948\n",
            " 275956.8918422  211710.52800526 257953.46815552 206518.09905661\n",
            " 150965.32410224 108348.41893916 133748.99976725 160591.37134363\n",
            " 111424.89790329  55852.47483848 193468.57897567 146121.05382848\n",
            "  48857.45113133 106413.10035491 197502.34297267 170705.68804638\n",
            " 265163.94987859 205099.71024187 252860.55051323 126710.98119828\n",
            " 334156.51913493 212122.87024629 179663.49217134 202293.43120254\n",
            " 207835.51151575 129692.87118072 155108.48775742 129444.6216575\n",
            " 141540.4435195   62906.61156366 238915.36443631 117788.25868622\n",
            " 188327.95858049 110131.35658616 125917.67236011 135601.84983203\n",
            " 147142.36966993  96432.61015361 183726.0224386   95962.70728771\n",
            " 139582.1782868  254884.31987547 110674.95433599 217211.69206538\n",
            " 143647.19265305 106799.09873357 137093.13571529 184232.17684027\n",
            " 222854.18669157 248631.47478254 140108.6343168  205306.87289672\n",
            "  94550.69629469  86365.22400619 196572.44285396 163581.44808021\n",
            " 196339.75819226 201194.27249328 143928.11471039 209386.9271068\n",
            "  91837.81471033 139973.38331935 174245.19874951 181210.4192869\n",
            " 212881.43689466 143889.37683821 245687.63869345 156926.16296321\n",
            " 200518.48838723  57321.6087895  202918.82318894  90065.24902185\n",
            " 176360.130699   162319.14965307 193194.17020225 220545.99440093\n",
            " 146427.32172757 202464.43707374 204189.01836943 108634.56498491\n",
            " 176657.41532471 209651.1741326  220277.52409707 119051.97653592\n",
            " 180024.25059157  90891.10811832 177219.65952005 196955.74501018\n",
            " 215391.23897436 113460.03534789 120468.12914877 121498.64464106\n",
            " 166634.96750022 180392.50250234 185198.46781427 167128.50021954\n",
            " 126155.74034044 203872.69411017 148397.79344797 112691.2807391\n",
            " 139614.78527583 111810.69397725 175882.98896266 201143.78234897\n",
            "  83611.99705647 220101.0462607  144853.5238621  133812.05462701\n",
            " 123936.46987209 221042.94990347 271507.97985104 217981.80607212\n",
            " 127883.46945847 166710.45581682  80141.6616996   87121.00190881\n",
            " 216804.90253231 259609.43117781  60237.71734248 159879.51894259\n",
            "  91449.90988752  51932.41576106 118299.632579   102635.68745385\n",
            " 154217.69046055  71667.89039064 107896.02809907 261636.03972295\n",
            " 126101.20810667 106508.03458955  90687.4919693  203184.19232894\n",
            " 144315.54752145 148084.76623432  59456.8240551  157994.08144899\n",
            " 251348.82760852 145660.74813511 185720.45014519 115248.58120955\n",
            " 221945.81885016 269228.97042007 213166.65988519 146947.22131413\n",
            " 181361.82688636 139804.939638   118316.57130274 120087.48049277\n",
            " 231901.82663122 170471.8912211  104868.51270499 137522.76060064\n",
            " 176367.5420438  273320.3680334  228107.1476917   91526.89865299\n",
            " 109231.21845167 280903.8746563  176513.72171206 208758.67070709\n",
            " 187284.08053637 132778.06210059 195640.33165745 140015.1504433\n",
            " 141261.40808021 112881.12339029 149941.60321943 179604.64119626\n",
            " 163585.10128052 146663.5548226  146978.43879781 209665.22179915\n",
            "  81109.57566634 172998.05760132 184421.47277263 179840.46597905\n",
            " 157050.07754202  99899.34920035 179529.80126184 178410.24377315\n",
            " 161109.47379714 110682.73268588 242148.41155651 145548.88367072\n",
            " 256317.54443475 258167.36732321 205270.71738905 244563.95910086\n",
            " 170145.85115356 152271.81972974 131446.55758978 258656.6327338\n",
            " 143213.00657717 129604.07136141  59437.12648404 172434.57643656\n",
            " 204065.00176947 192924.22941204 226146.04870271 122165.37893794\n",
            " 210915.34536688 109091.14293802 272275.42380094 140072.84421519\n",
            " 264959.48422454 193110.19667671 220864.06654709 192429.39662564\n",
            "  81405.82285417 257029.57735095 278436.3326399  285480.74819423\n",
            " 106815.17273538 113833.83897353  79604.17274655 123104.02724588\n",
            " 215861.47366548 130535.08811993 153541.97436441  71378.0996908\n",
            " 206102.52123894 144361.91926554 184234.7403066  111622.92155232\n",
            " 228429.60223579 158194.73143504 151419.76744972 115921.59715384\n",
            " 150210.19607741 266800.12215302 120994.37562537 208506.45748969\n",
            " 299250.23074831 141481.06789892  95044.10689032 213284.87147194\n",
            " 158409.88824017 303053.88245653 122387.12303999 143675.91280861\n",
            " 123864.7195153  201560.85310111 220593.67619486 139446.12051262\n",
            " 272682.25757048 143276.45803422 170414.49059818 153539.29447823\n",
            " 133427.02002667 207301.90725157 205711.16886863 161720.49461081\n",
            " 155425.18812961 109620.72245048 105565.0178873  134509.25970135\n",
            " 191115.41519174  95992.38553411 120294.32430921 170717.32752601\n",
            " 195851.06285113 232350.46564298 288803.15421758 158986.45997039\n",
            " 230064.82003298 194905.46898642 130824.27100621 155314.24928304\n",
            " 166859.93433417 226013.84582009 122088.38465352 174163.84110404\n",
            " 197907.41144941 167956.15094591 203113.57959089 179032.81735357\n",
            " 232553.3184146  217142.44146059 157696.80542275 197448.34276634\n",
            " 150766.81397786 187708.25879879 198054.98538551 143626.57562653\n",
            " 166045.29877317 238981.9462819  194666.57732332 193179.63255743\n",
            " 137230.62352501 157260.7996379  213841.16366235 135185.17776112\n",
            " 138405.51536047 166624.41915694 143709.42843126 233063.56826922\n",
            " 139738.0908502  116608.91507115 160690.41105407 175607.95768009\n",
            "  81173.79353497 186196.41249687  77718.24914368 231624.5759972\n",
            " 140356.07556029 155452.14065184 123415.97596184 112168.67341463\n",
            " 156164.26013603  93689.52969127 189289.44316071 127146.80949852\n",
            " 199561.10082348  86000.50053556  94457.38106348]\n"
          ]
        }
      ]
    },
    {
      "cell_type": "code",
      "source": [
        "from sklearn.metrics import r2_score\n",
        "print(r2_score(y_test,y_pred))"
      ],
      "metadata": {
        "colab": {
          "base_uri": "https://localhost:8080/"
        },
        "id": "i3PZ87MtyH6t",
        "outputId": "11c4082b-c6c2-472b-d5ae-f2fa4fe68227"
      },
      "execution_count": null,
      "outputs": [
        {
          "output_type": "stream",
          "name": "stdout",
          "text": [
            "0.8491511480931883\n"
          ]
        }
      ]
    }
  ]
}
